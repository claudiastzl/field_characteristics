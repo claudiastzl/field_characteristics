{
 "cells": [
  {
   "cell_type": "code",
   "execution_count": 20,
   "metadata": {},
   "outputs": [
    {
     "name": "stdout",
     "output_type": "stream",
     "text": [
      "The distance between these two points is\n",
      "8.683767966173107 meters.\n"
     ]
    }
   ],
   "source": [
    "# get the distance in meters of two locations with gps coordinates \n",
    "\n",
    "import numpy as np\n",
    "\n",
    "def coords_to_meters(coord_dict):  \n",
    "    \n",
    "    lat1=coord_dict[0][1]\n",
    "    lon1=coord_dict[0][0]\n",
    "    lat2=coord_dict[1][1]\n",
    "    lon2=coord_dict[1][0]\n",
    "    \n",
    "    \n",
    "    #https://en.wikipedia.org/wiki/Haversine_formula\n",
    "    \n",
    "    R = 6378.137 # Radius of earth in KM\n",
    "    #dLat = np.abs( lat2 * np.pi / 180 - lat1 * np.pi / 180 )\n",
    "    #dLon = np.abs( lon2 * np.pi / 180 - lon1 * np.pi / 180 )\n",
    "    dLat = np.abs( lat2 * np.pi / 180 - lat1 * np.pi / 180 )\n",
    "    dLon = np.abs( lon2 * np.pi / 180 - lon1 * np.pi / 180 )\n",
    "    a = np.sin(dLat/2) **2 + \\\n",
    "          np.cos(lat1 * np.pi / 180) * np.cos(lat2 * np.pi / 180) * \\\n",
    "          np.sin(dLon/2) **2\n",
    "    d = 2 * R * np.arcsin( np.sqrt(a) )\n",
    "    \n",
    "    print(\"The distance between these two points is\")\n",
    "    print(d*1000, \"meters.\")\n",
    "\n",
    "#\n",
    "#   COPY-PASTE FROM GOOGLE EARTH ENGINE, PUT A COMMA IN THE BEGINNING OF THE LINE BEGINNING WITH 1\n",
    "#                          |   \n",
    "#                          |\n",
    "#                         \\/\n",
    "\n",
    "coords_to_meters( coord_dict={\n",
    "\n",
    " 0: [-121.056817609787,37.55918222664327]\n",
    ",1: [-121.05684711408617,37.55925664541774]\n",
    "\n",
    "}\n",
    ")\n",
    "\n",
    "\n"
   ]
  }
 ],
 "metadata": {
  "kernelspec": {
   "display_name": "Python 3",
   "language": "python",
   "name": "python3"
  },
  "language_info": {
   "codemirror_mode": {
    "name": "ipython",
    "version": 3
   },
   "file_extension": ".py",
   "mimetype": "text/x-python",
   "name": "python",
   "nbconvert_exporter": "python",
   "pygments_lexer": "ipython3",
   "version": "3.7.2"
  },
  "varInspector": {
   "cols": {
    "lenName": 16,
    "lenType": 16,
    "lenVar": 40
   },
   "kernels_config": {
    "python": {
     "delete_cmd_postfix": "",
     "delete_cmd_prefix": "del ",
     "library": "var_list.py",
     "varRefreshCmd": "print(var_dic_list())"
    },
    "r": {
     "delete_cmd_postfix": ") ",
     "delete_cmd_prefix": "rm(",
     "library": "var_list.r",
     "varRefreshCmd": "cat(var_dic_list()) "
    }
   },
   "types_to_exclude": [
    "module",
    "function",
    "builtin_function_or_method",
    "instance",
    "_Feature"
   ],
   "window_display": true
  }
 },
 "nbformat": 4,
 "nbformat_minor": 2
}
