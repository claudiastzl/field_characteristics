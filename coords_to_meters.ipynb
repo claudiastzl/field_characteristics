{
 "cells": [
  {
   "cell_type": "code",
   "execution_count": 1,
   "metadata": {},
   "outputs": [
    {
     "data": {
      "text/plain": [
       "5.673389197363626"
      ]
     },
     "execution_count": 1,
     "metadata": {},
     "output_type": "execute_result"
    }
   ],
   "source": [
    "# get the distance in meters of two locations with gps coordinates \n",
    "\n",
    "import numpy as np\n",
    "\n",
    "def coords_to_meters(lat1, lon1, lat2, lon2):  \n",
    "    \n",
    "    #https://en.wikipedia.org/wiki/Haversine_formula\n",
    "    \n",
    "    R = 6378.137 # Radius of earth in KM\n",
    "    dLat = np.abs( lat2 * np.pi / 180 - lat1 * np.pi / 180 )\n",
    "    dLon = np.abs( lon2 * np.pi / 180 - lon1 * np.pi / 180 )\n",
    "    a = np.sin(dLat/2) **2 + \\\n",
    "          np.cos(lat1 * np.pi / 180) * np.cos(lat2 * np.pi / 180) * \\\n",
    "          np.sin(dLon/2) **2\n",
    "    d = 2 * R * np.arcsin( np.sqrt(a) )\n",
    "    \n",
    "    return d * 1000; # meters\n",
    "\n",
    "#\n",
    "#            PUT THE CORDINATES BELOW, HIT CTRL + ENTER \n",
    "#                          |   \n",
    "#                          |\n",
    "#                         \\/\n",
    "\n",
    "coords_to_meters( -121.05595297079958, 37.559322620205485,\n",
    "                  -121.0559020088283, 37.5593215570816 )\n"
   ]
  }
 ],
 "metadata": {
  "kernelspec": {
   "display_name": "Python 3",
   "language": "python",
   "name": "python3"
  },
  "language_info": {
   "codemirror_mode": {
    "name": "ipython",
    "version": 3
   },
   "file_extension": ".py",
   "mimetype": "text/x-python",
   "name": "python",
   "nbconvert_exporter": "python",
   "pygments_lexer": "ipython3",
   "version": "3.7.1"
  },
  "varInspector": {
   "cols": {
    "lenName": 16,
    "lenType": 16,
    "lenVar": 40
   },
   "kernels_config": {
    "python": {
     "delete_cmd_postfix": "",
     "delete_cmd_prefix": "del ",
     "library": "var_list.py",
     "varRefreshCmd": "print(var_dic_list())"
    },
    "r": {
     "delete_cmd_postfix": ") ",
     "delete_cmd_prefix": "rm(",
     "library": "var_list.r",
     "varRefreshCmd": "cat(var_dic_list()) "
    }
   },
   "types_to_exclude": [
    "module",
    "function",
    "builtin_function_or_method",
    "instance",
    "_Feature"
   ],
   "window_display": false
  }
 },
 "nbformat": 4,
 "nbformat_minor": 2
}
